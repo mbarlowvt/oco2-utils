{
 "metadata": {
  "language_info": {
   "codemirror_mode": {
    "name": "ipython",
    "version": 3
   },
   "file_extension": ".py",
   "mimetype": "text/x-python",
   "name": "python",
   "nbconvert_exporter": "python",
   "pygments_lexer": "ipython3",
   "version": "3.8.2-final"
  },
  "orig_nbformat": 2,
  "kernelspec": {
   "name": "Python 3.8.2 64-bit ('venv': venv)",
   "display_name": "Python 3.8.2 64-bit ('venv': venv)",
   "metadata": {
    "interpreter": {
     "hash": "f40376aba8fa6853917df34b9fb4e47f4b3a416a249cbb1a50a952bc48790582"
    }
   }
  }
 },
 "nbformat": 4,
 "nbformat_minor": 2,
 "cells": [
  {
   "cell_type": "code",
   "execution_count": 28,
   "metadata": {},
   "outputs": [
    {
     "output_type": "stream",
     "name": "stdout",
     "text": [
      "49\n"
     ]
    }
   ],
   "source": [
    "from flux_tower import extract_towers, FluxTower\n",
    "\n",
    "# Get towers from file\n",
    "from grid_api import GridApi\n",
    "\n",
    "# Load towers from file\n",
    "towers = extract_towers('cali_towers.csv')\n",
    "print(len(towers))\n",
    "\n",
    "\n"
   ]
  },
  {
   "cell_type": "code",
   "execution_count": 29,
   "metadata": {},
   "outputs": [
    {
     "output_type": "stream",
     "name": "stdout",
     "text": [
      "38\n"
     ]
    }
   ],
   "source": [
    "# Extract for years that have data\n",
    "filtered_towers = filter(FluxTower.useful_tower, towers)\n",
    "print(len(list(filtered_towers)))\n",
    "\n",
    "\n",
    "\n"
   ]
  },
  {
   "cell_type": "code",
   "execution_count": 30,
   "metadata": {},
   "outputs": [
    {
     "output_type": "stream",
     "name": "stdout",
     "text": [
      "['co2_column_strong_band_idpCO2', 'co2_column_weak_band_idp', 'aerosol_aod', 'co2_grad_del', 'co2_profile', 'wind_speed', 'retrieval_land_water_indicator', 'retrieved_wet_air_column_layer_thickness', 'retrieved_dry_air_column_layer_thickness', 'albedo_o2a', 'albedo_wco2', 'albedo_sco2']\n"
     ]
    }
   ],
   "source": [
    "# Set up grid api (optionally add precision here)\n",
    "grid_api = GridApi(email=r'mike%40lowbar.dev')\n",
    "\n",
    "# Pick variables for the grid API\n",
    "grid_vars = [\n",
    "    \"co2_column_strong_band_idpCO2\",\n",
    "    \"co2_column_weak_band_idp\",\n",
    "    \"aerosol_aod\",\n",
    "    \"co2_grad_del\",\n",
    "    \"co2_profile\",\n",
    "    \"wind_speed\",\n",
    "    \"retrieval_land_water_indicator\",\n",
    "    \"retrieved_wet_air_column_layer_thickness\",\n",
    "    \"retrieved_dry_air_column_layer_thickness\",\n",
    "    \"albedo_o2a\",\n",
    "    \"albedo_wco2\",\n",
    "    \"albedo_sco2\",\n",
    "]\n",
    "print(grid_vars)"
   ]
  },
  {
   "cell_type": "code",
   "execution_count": 32,
   "metadata": {
    "tags": []
   },
   "outputs": [],
   "source": [
    "# Retrieve data surrounding towers\n",
    "tower_responses = []\n",
    "counter = 0\n",
    "for tower in filtered_towers:\n",
    "    print(counter)\n",
    "    if(counter >= 1):\n",
    "        print(\"exiting\")\n",
    "        break\n",
    "    else:\n",
    "        print(\"exploring tower 1\")\n",
    "        resp = grid_api.get_tower_query(tower, grid_vars)\n",
    "        tower_responses.append(resp.text)\n",
    "        print(resp.text)\n",
    "        print(resp.content)\n",
    "        counter += 1"
   ]
  },
  {
   "cell_type": "code",
   "execution_count": null,
   "metadata": {},
   "outputs": [],
   "source": []
  }
 ]
}